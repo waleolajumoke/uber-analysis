{
 "cells": [
  {
   "cell_type": "code",
   "execution_count": 8,
   "id": "ad9ee70a",
   "metadata": {},
   "outputs": [],
   "source": [
    "import pandas as pd\n",
    "import numpy as np\n",
    "import matplotlib.pyplot as plt\n",
    "import seaborn as sns\n",
    "import datetime\n",
    "import calendar"
   ]
  },
  {
   "cell_type": "code",
   "execution_count": 11,
   "id": "390d4ae0",
   "metadata": {},
   "outputs": [
    {
     "data": {
      "text/html": [
       "<div>\n",
       "<style scoped>\n",
       "    .dataframe tbody tr th:only-of-type {\n",
       "        vertical-align: middle;\n",
       "    }\n",
       "\n",
       "    .dataframe tbody tr th {\n",
       "        vertical-align: top;\n",
       "    }\n",
       "\n",
       "    .dataframe thead th {\n",
       "        text-align: right;\n",
       "    }\n",
       "</style>\n",
       "<table border=\"1\" class=\"dataframe\">\n",
       "  <thead>\n",
       "    <tr style=\"text-align: right;\">\n",
       "      <th></th>\n",
       "      <th>START_DATE*</th>\n",
       "      <th>END_DATE*</th>\n",
       "      <th>CATEGORY*</th>\n",
       "      <th>START*</th>\n",
       "      <th>STOP*</th>\n",
       "      <th>MILES*</th>\n",
       "      <th>PURPOSE*</th>\n",
       "    </tr>\n",
       "  </thead>\n",
       "  <tbody>\n",
       "    <tr>\n",
       "      <th>0</th>\n",
       "      <td>1/1/2016 21:11</td>\n",
       "      <td>1/1/2016 21:17</td>\n",
       "      <td>Business</td>\n",
       "      <td>Fort Pierce</td>\n",
       "      <td>Fort Pierce</td>\n",
       "      <td>5.1</td>\n",
       "      <td>Meal/Entertain</td>\n",
       "    </tr>\n",
       "    <tr>\n",
       "      <th>1</th>\n",
       "      <td>1/2/2016 1:25</td>\n",
       "      <td>1/2/2016 1:37</td>\n",
       "      <td>Business</td>\n",
       "      <td>Fort Pierce</td>\n",
       "      <td>Fort Pierce</td>\n",
       "      <td>5.0</td>\n",
       "      <td>NaN</td>\n",
       "    </tr>\n",
       "    <tr>\n",
       "      <th>2</th>\n",
       "      <td>1/2/2016 20:25</td>\n",
       "      <td>1/2/2016 20:38</td>\n",
       "      <td>Business</td>\n",
       "      <td>Fort Pierce</td>\n",
       "      <td>Fort Pierce</td>\n",
       "      <td>4.8</td>\n",
       "      <td>Errand/Supplies</td>\n",
       "    </tr>\n",
       "    <tr>\n",
       "      <th>3</th>\n",
       "      <td>1/5/2016 17:31</td>\n",
       "      <td>1/5/2016 17:45</td>\n",
       "      <td>Business</td>\n",
       "      <td>Fort Pierce</td>\n",
       "      <td>Fort Pierce</td>\n",
       "      <td>4.7</td>\n",
       "      <td>Meeting</td>\n",
       "    </tr>\n",
       "    <tr>\n",
       "      <th>4</th>\n",
       "      <td>1/6/2016 14:42</td>\n",
       "      <td>1/6/2016 15:49</td>\n",
       "      <td>Business</td>\n",
       "      <td>Fort Pierce</td>\n",
       "      <td>West Palm Beach</td>\n",
       "      <td>63.7</td>\n",
       "      <td>Customer Visit</td>\n",
       "    </tr>\n",
       "    <tr>\n",
       "      <th>...</th>\n",
       "      <td>...</td>\n",
       "      <td>...</td>\n",
       "      <td>...</td>\n",
       "      <td>...</td>\n",
       "      <td>...</td>\n",
       "      <td>...</td>\n",
       "      <td>...</td>\n",
       "    </tr>\n",
       "    <tr>\n",
       "      <th>1151</th>\n",
       "      <td>12/31/2016 13:24</td>\n",
       "      <td>12/31/2016 13:42</td>\n",
       "      <td>Business</td>\n",
       "      <td>Kar?chi</td>\n",
       "      <td>Unknown Location</td>\n",
       "      <td>3.9</td>\n",
       "      <td>Temporary Site</td>\n",
       "    </tr>\n",
       "    <tr>\n",
       "      <th>1152</th>\n",
       "      <td>12/31/2016 15:03</td>\n",
       "      <td>12/31/2016 15:38</td>\n",
       "      <td>Business</td>\n",
       "      <td>Unknown Location</td>\n",
       "      <td>Unknown Location</td>\n",
       "      <td>16.2</td>\n",
       "      <td>Meeting</td>\n",
       "    </tr>\n",
       "    <tr>\n",
       "      <th>1153</th>\n",
       "      <td>12/31/2016 21:32</td>\n",
       "      <td>12/31/2016 21:50</td>\n",
       "      <td>Business</td>\n",
       "      <td>Katunayake</td>\n",
       "      <td>Gampaha</td>\n",
       "      <td>6.4</td>\n",
       "      <td>Temporary Site</td>\n",
       "    </tr>\n",
       "    <tr>\n",
       "      <th>1154</th>\n",
       "      <td>12/31/2016 22:08</td>\n",
       "      <td>12/31/2016 23:51</td>\n",
       "      <td>Business</td>\n",
       "      <td>Gampaha</td>\n",
       "      <td>Ilukwatta</td>\n",
       "      <td>48.2</td>\n",
       "      <td>Temporary Site</td>\n",
       "    </tr>\n",
       "    <tr>\n",
       "      <th>1155</th>\n",
       "      <td>Totals</td>\n",
       "      <td>NaN</td>\n",
       "      <td>NaN</td>\n",
       "      <td>NaN</td>\n",
       "      <td>NaN</td>\n",
       "      <td>12204.7</td>\n",
       "      <td>NaN</td>\n",
       "    </tr>\n",
       "  </tbody>\n",
       "</table>\n",
       "<p>1156 rows × 7 columns</p>\n",
       "</div>"
      ],
      "text/plain": [
       "           START_DATE*         END_DATE* CATEGORY*            START*  \\\n",
       "0       1/1/2016 21:11    1/1/2016 21:17  Business       Fort Pierce   \n",
       "1        1/2/2016 1:25     1/2/2016 1:37  Business       Fort Pierce   \n",
       "2       1/2/2016 20:25    1/2/2016 20:38  Business       Fort Pierce   \n",
       "3       1/5/2016 17:31    1/5/2016 17:45  Business       Fort Pierce   \n",
       "4       1/6/2016 14:42    1/6/2016 15:49  Business       Fort Pierce   \n",
       "...                ...               ...       ...               ...   \n",
       "1151  12/31/2016 13:24  12/31/2016 13:42  Business           Kar?chi   \n",
       "1152  12/31/2016 15:03  12/31/2016 15:38  Business  Unknown Location   \n",
       "1153  12/31/2016 21:32  12/31/2016 21:50  Business        Katunayake   \n",
       "1154  12/31/2016 22:08  12/31/2016 23:51  Business           Gampaha   \n",
       "1155            Totals               NaN       NaN               NaN   \n",
       "\n",
       "                 STOP*   MILES*         PURPOSE*  \n",
       "0          Fort Pierce      5.1   Meal/Entertain  \n",
       "1          Fort Pierce      5.0              NaN  \n",
       "2          Fort Pierce      4.8  Errand/Supplies  \n",
       "3          Fort Pierce      4.7          Meeting  \n",
       "4      West Palm Beach     63.7   Customer Visit  \n",
       "...                ...      ...              ...  \n",
       "1151  Unknown Location      3.9   Temporary Site  \n",
       "1152  Unknown Location     16.2          Meeting  \n",
       "1153           Gampaha      6.4   Temporary Site  \n",
       "1154         Ilukwatta     48.2   Temporary Site  \n",
       "1155               NaN  12204.7              NaN  \n",
       "\n",
       "[1156 rows x 7 columns]"
      ]
     },
     "execution_count": 11,
     "metadata": {},
     "output_type": "execute_result"
    }
   ],
   "source": [
    "data = pd.read_csv('UberDrives.csv')\n",
    "data"
   ]
  },
  {
   "cell_type": "code",
   "execution_count": 14,
   "id": "e90e30f7",
   "metadata": {},
   "outputs": [
    {
     "data": {
      "text/html": [
       "<div>\n",
       "<style scoped>\n",
       "    .dataframe tbody tr th:only-of-type {\n",
       "        vertical-align: middle;\n",
       "    }\n",
       "\n",
       "    .dataframe tbody tr th {\n",
       "        vertical-align: top;\n",
       "    }\n",
       "\n",
       "    .dataframe thead th {\n",
       "        text-align: right;\n",
       "    }\n",
       "</style>\n",
       "<table border=\"1\" class=\"dataframe\">\n",
       "  <thead>\n",
       "    <tr style=\"text-align: right;\">\n",
       "      <th></th>\n",
       "      <th>START_DATE*</th>\n",
       "      <th>END_DATE*</th>\n",
       "      <th>CATEGORY*</th>\n",
       "      <th>START*</th>\n",
       "      <th>STOP*</th>\n",
       "      <th>MILES*</th>\n",
       "      <th>PURPOSE*</th>\n",
       "    </tr>\n",
       "  </thead>\n",
       "  <tbody>\n",
       "    <tr>\n",
       "      <th>0</th>\n",
       "      <td>False</td>\n",
       "      <td>False</td>\n",
       "      <td>False</td>\n",
       "      <td>False</td>\n",
       "      <td>False</td>\n",
       "      <td>False</td>\n",
       "      <td>False</td>\n",
       "    </tr>\n",
       "    <tr>\n",
       "      <th>1</th>\n",
       "      <td>False</td>\n",
       "      <td>False</td>\n",
       "      <td>False</td>\n",
       "      <td>False</td>\n",
       "      <td>False</td>\n",
       "      <td>False</td>\n",
       "      <td>True</td>\n",
       "    </tr>\n",
       "    <tr>\n",
       "      <th>2</th>\n",
       "      <td>False</td>\n",
       "      <td>False</td>\n",
       "      <td>False</td>\n",
       "      <td>False</td>\n",
       "      <td>False</td>\n",
       "      <td>False</td>\n",
       "      <td>False</td>\n",
       "    </tr>\n",
       "    <tr>\n",
       "      <th>3</th>\n",
       "      <td>False</td>\n",
       "      <td>False</td>\n",
       "      <td>False</td>\n",
       "      <td>False</td>\n",
       "      <td>False</td>\n",
       "      <td>False</td>\n",
       "      <td>False</td>\n",
       "    </tr>\n",
       "    <tr>\n",
       "      <th>4</th>\n",
       "      <td>False</td>\n",
       "      <td>False</td>\n",
       "      <td>False</td>\n",
       "      <td>False</td>\n",
       "      <td>False</td>\n",
       "      <td>False</td>\n",
       "      <td>False</td>\n",
       "    </tr>\n",
       "    <tr>\n",
       "      <th>...</th>\n",
       "      <td>...</td>\n",
       "      <td>...</td>\n",
       "      <td>...</td>\n",
       "      <td>...</td>\n",
       "      <td>...</td>\n",
       "      <td>...</td>\n",
       "      <td>...</td>\n",
       "    </tr>\n",
       "    <tr>\n",
       "      <th>1151</th>\n",
       "      <td>False</td>\n",
       "      <td>False</td>\n",
       "      <td>False</td>\n",
       "      <td>False</td>\n",
       "      <td>False</td>\n",
       "      <td>False</td>\n",
       "      <td>False</td>\n",
       "    </tr>\n",
       "    <tr>\n",
       "      <th>1152</th>\n",
       "      <td>False</td>\n",
       "      <td>False</td>\n",
       "      <td>False</td>\n",
       "      <td>False</td>\n",
       "      <td>False</td>\n",
       "      <td>False</td>\n",
       "      <td>False</td>\n",
       "    </tr>\n",
       "    <tr>\n",
       "      <th>1153</th>\n",
       "      <td>False</td>\n",
       "      <td>False</td>\n",
       "      <td>False</td>\n",
       "      <td>False</td>\n",
       "      <td>False</td>\n",
       "      <td>False</td>\n",
       "      <td>False</td>\n",
       "    </tr>\n",
       "    <tr>\n",
       "      <th>1154</th>\n",
       "      <td>False</td>\n",
       "      <td>False</td>\n",
       "      <td>False</td>\n",
       "      <td>False</td>\n",
       "      <td>False</td>\n",
       "      <td>False</td>\n",
       "      <td>False</td>\n",
       "    </tr>\n",
       "    <tr>\n",
       "      <th>1155</th>\n",
       "      <td>False</td>\n",
       "      <td>True</td>\n",
       "      <td>True</td>\n",
       "      <td>True</td>\n",
       "      <td>True</td>\n",
       "      <td>False</td>\n",
       "      <td>True</td>\n",
       "    </tr>\n",
       "  </tbody>\n",
       "</table>\n",
       "<p>1156 rows × 7 columns</p>\n",
       "</div>"
      ],
      "text/plain": [
       "      START_DATE*  END_DATE*  CATEGORY*  START*  STOP*  MILES*  PURPOSE*\n",
       "0           False      False      False   False  False   False     False\n",
       "1           False      False      False   False  False   False      True\n",
       "2           False      False      False   False  False   False     False\n",
       "3           False      False      False   False  False   False     False\n",
       "4           False      False      False   False  False   False     False\n",
       "...           ...        ...        ...     ...    ...     ...       ...\n",
       "1151        False      False      False   False  False   False     False\n",
       "1152        False      False      False   False  False   False     False\n",
       "1153        False      False      False   False  False   False     False\n",
       "1154        False      False      False   False  False   False     False\n",
       "1155        False       True       True    True   True   False      True\n",
       "\n",
       "[1156 rows x 7 columns]"
      ]
     },
     "execution_count": 14,
     "metadata": {},
     "output_type": "execute_result"
    }
   ],
   "source": [
    "#check for missing values\n",
    "data.isnull()"
   ]
  },
  {
   "cell_type": "code",
   "execution_count": 16,
   "id": "c682d9df",
   "metadata": {},
   "outputs": [
    {
     "data": {
      "text/plain": [
       "START_DATE*    False\n",
       "END_DATE*       True\n",
       "CATEGORY*       True\n",
       "START*          True\n",
       "STOP*           True\n",
       "MILES*         False\n",
       "PURPOSE*        True\n",
       "dtype: bool"
      ]
     },
     "execution_count": 16,
     "metadata": {},
     "output_type": "execute_result"
    }
   ],
   "source": [
    "data.isnull().any()"
   ]
  },
  {
   "cell_type": "code",
   "execution_count": 15,
   "id": "10049a4b",
   "metadata": {},
   "outputs": [
    {
     "data": {
      "text/plain": [
       "START_DATE*      0\n",
       "END_DATE*        1\n",
       "CATEGORY*        1\n",
       "START*           1\n",
       "STOP*            1\n",
       "MILES*           0\n",
       "PURPOSE*       503\n",
       "dtype: int64"
      ]
     },
     "execution_count": 15,
     "metadata": {},
     "output_type": "execute_result"
    }
   ],
   "source": [
    "data.isnull().sum()"
   ]
  },
  {
   "cell_type": "code",
   "execution_count": 17,
   "id": "7c8f9c6d",
   "metadata": {},
   "outputs": [
    {
     "data": {
      "text/plain": [
       "START_DATE*    0\n",
       "END_DATE*      0\n",
       "CATEGORY*      0\n",
       "START*         0\n",
       "STOP*          0\n",
       "MILES*         0\n",
       "PURPOSE*       0\n",
       "dtype: int64"
      ]
     },
     "execution_count": 17,
     "metadata": {},
     "output_type": "execute_result"
    }
   ],
   "source": [
    "data = data.dropna()\n",
    "data.isnull().sum()"
   ]
  },
  {
   "cell_type": "code",
   "execution_count": 18,
   "id": "3c0b80c8",
   "metadata": {},
   "outputs": [
    {
     "name": "stdout",
     "output_type": "stream",
     "text": [
      "<class 'pandas.core.frame.DataFrame'>\n",
      "Int64Index: 653 entries, 0 to 1154\n",
      "Data columns (total 7 columns):\n",
      " #   Column       Non-Null Count  Dtype  \n",
      "---  ------       --------------  -----  \n",
      " 0   START_DATE*  653 non-null    object \n",
      " 1   END_DATE*    653 non-null    object \n",
      " 2   CATEGORY*    653 non-null    object \n",
      " 3   START*       653 non-null    object \n",
      " 4   STOP*        653 non-null    object \n",
      " 5   MILES*       653 non-null    float64\n",
      " 6   PURPOSE*     653 non-null    object \n",
      "dtypes: float64(1), object(6)\n",
      "memory usage: 40.8+ KB\n"
     ]
    }
   ],
   "source": [
    "#check data types\n",
    "data.info()"
   ]
  },
  {
   "cell_type": "code",
   "execution_count": 20,
   "id": "8b3c7a8b",
   "metadata": {},
   "outputs": [
    {
     "name": "stderr",
     "output_type": "stream",
     "text": [
      "C:\\Users\\HP\\AppData\\Local\\Temp/ipykernel_5532/4096076503.py:2: SettingWithCopyWarning: \n",
      "A value is trying to be set on a copy of a slice from a DataFrame.\n",
      "Try using .loc[row_indexer,col_indexer] = value instead\n",
      "\n",
      "See the caveats in the documentation: https://pandas.pydata.org/pandas-docs/stable/user_guide/indexing.html#returning-a-view-versus-a-copy\n",
      "  data[\"START_DATE*\"] = pd.to_datetime(data[\"START_DATE*\"],format=\"%m/%d/%Y %H:%M\")\n",
      "C:\\Users\\HP\\AppData\\Local\\Temp/ipykernel_5532/4096076503.py:3: SettingWithCopyWarning: \n",
      "A value is trying to be set on a copy of a slice from a DataFrame.\n",
      "Try using .loc[row_indexer,col_indexer] = value instead\n",
      "\n",
      "See the caveats in the documentation: https://pandas.pydata.org/pandas-docs/stable/user_guide/indexing.html#returning-a-view-versus-a-copy\n",
      "  data[\"END_DATE*\"] = pd.to_datetime(data[\"END_DATE*\"],format=\"%m/%d/%Y %H:%M\")\n"
     ]
    }
   ],
   "source": [
    "#change the date data type from object to date\n",
    "data[\"START_DATE*\"] = pd.to_datetime(data[\"START_DATE*\"],format=\"%m/%d/%Y %H:%M\")\n",
    "data[\"END_DATE*\"] = pd.to_datetime(data[\"END_DATE*\"],format=\"%m/%d/%Y %H:%M\")"
   ]
  },
  {
   "cell_type": "code",
   "execution_count": 21,
   "id": "75a70d35",
   "metadata": {},
   "outputs": [
    {
     "name": "stdout",
     "output_type": "stream",
     "text": [
      "<class 'pandas.core.frame.DataFrame'>\n",
      "Int64Index: 653 entries, 0 to 1154\n",
      "Data columns (total 7 columns):\n",
      " #   Column       Non-Null Count  Dtype         \n",
      "---  ------       --------------  -----         \n",
      " 0   START_DATE*  653 non-null    datetime64[ns]\n",
      " 1   END_DATE*    653 non-null    datetime64[ns]\n",
      " 2   CATEGORY*    653 non-null    object        \n",
      " 3   START*       653 non-null    object        \n",
      " 4   STOP*        653 non-null    object        \n",
      " 5   MILES*       653 non-null    float64       \n",
      " 6   PURPOSE*     653 non-null    object        \n",
      "dtypes: datetime64[ns](2), float64(1), object(4)\n",
      "memory usage: 40.8+ KB\n"
     ]
    }
   ],
   "source": [
    "data.info()"
   ]
  },
  {
   "cell_type": "code",
   "execution_count": 22,
   "id": "91a136e2",
   "metadata": {},
   "outputs": [
    {
     "data": {
      "text/html": [
       "<div>\n",
       "<style scoped>\n",
       "    .dataframe tbody tr th:only-of-type {\n",
       "        vertical-align: middle;\n",
       "    }\n",
       "\n",
       "    .dataframe tbody tr th {\n",
       "        vertical-align: top;\n",
       "    }\n",
       "\n",
       "    .dataframe thead th {\n",
       "        text-align: right;\n",
       "    }\n",
       "</style>\n",
       "<table border=\"1\" class=\"dataframe\">\n",
       "  <thead>\n",
       "    <tr style=\"text-align: right;\">\n",
       "      <th></th>\n",
       "      <th>START_DATE*</th>\n",
       "      <th>END_DATE*</th>\n",
       "      <th>CATEGORY*</th>\n",
       "      <th>START*</th>\n",
       "      <th>STOP*</th>\n",
       "      <th>MILES*</th>\n",
       "      <th>PURPOSE*</th>\n",
       "    </tr>\n",
       "  </thead>\n",
       "  <tbody>\n",
       "    <tr>\n",
       "      <th>0</th>\n",
       "      <td>2016-01-01 21:11:00</td>\n",
       "      <td>2016-01-01 21:17:00</td>\n",
       "      <td>Business</td>\n",
       "      <td>Fort Pierce</td>\n",
       "      <td>Fort Pierce</td>\n",
       "      <td>5.1</td>\n",
       "      <td>Meal/Entertain</td>\n",
       "    </tr>\n",
       "    <tr>\n",
       "      <th>2</th>\n",
       "      <td>2016-01-02 20:25:00</td>\n",
       "      <td>2016-01-02 20:38:00</td>\n",
       "      <td>Business</td>\n",
       "      <td>Fort Pierce</td>\n",
       "      <td>Fort Pierce</td>\n",
       "      <td>4.8</td>\n",
       "      <td>Errand/Supplies</td>\n",
       "    </tr>\n",
       "    <tr>\n",
       "      <th>3</th>\n",
       "      <td>2016-01-05 17:31:00</td>\n",
       "      <td>2016-01-05 17:45:00</td>\n",
       "      <td>Business</td>\n",
       "      <td>Fort Pierce</td>\n",
       "      <td>Fort Pierce</td>\n",
       "      <td>4.7</td>\n",
       "      <td>Meeting</td>\n",
       "    </tr>\n",
       "    <tr>\n",
       "      <th>4</th>\n",
       "      <td>2016-01-06 14:42:00</td>\n",
       "      <td>2016-01-06 15:49:00</td>\n",
       "      <td>Business</td>\n",
       "      <td>Fort Pierce</td>\n",
       "      <td>West Palm Beach</td>\n",
       "      <td>63.7</td>\n",
       "      <td>Customer Visit</td>\n",
       "    </tr>\n",
       "    <tr>\n",
       "      <th>5</th>\n",
       "      <td>2016-01-06 17:15:00</td>\n",
       "      <td>2016-01-06 17:19:00</td>\n",
       "      <td>Business</td>\n",
       "      <td>West Palm Beach</td>\n",
       "      <td>West Palm Beach</td>\n",
       "      <td>4.3</td>\n",
       "      <td>Meal/Entertain</td>\n",
       "    </tr>\n",
       "    <tr>\n",
       "      <th>...</th>\n",
       "      <td>...</td>\n",
       "      <td>...</td>\n",
       "      <td>...</td>\n",
       "      <td>...</td>\n",
       "      <td>...</td>\n",
       "      <td>...</td>\n",
       "      <td>...</td>\n",
       "    </tr>\n",
       "    <tr>\n",
       "      <th>1150</th>\n",
       "      <td>2016-12-31 01:07:00</td>\n",
       "      <td>2016-12-31 01:14:00</td>\n",
       "      <td>Business</td>\n",
       "      <td>Kar?chi</td>\n",
       "      <td>Kar?chi</td>\n",
       "      <td>0.7</td>\n",
       "      <td>Meeting</td>\n",
       "    </tr>\n",
       "    <tr>\n",
       "      <th>1151</th>\n",
       "      <td>2016-12-31 13:24:00</td>\n",
       "      <td>2016-12-31 13:42:00</td>\n",
       "      <td>Business</td>\n",
       "      <td>Kar?chi</td>\n",
       "      <td>Unknown Location</td>\n",
       "      <td>3.9</td>\n",
       "      <td>Temporary Site</td>\n",
       "    </tr>\n",
       "    <tr>\n",
       "      <th>1152</th>\n",
       "      <td>2016-12-31 15:03:00</td>\n",
       "      <td>2016-12-31 15:38:00</td>\n",
       "      <td>Business</td>\n",
       "      <td>Unknown Location</td>\n",
       "      <td>Unknown Location</td>\n",
       "      <td>16.2</td>\n",
       "      <td>Meeting</td>\n",
       "    </tr>\n",
       "    <tr>\n",
       "      <th>1153</th>\n",
       "      <td>2016-12-31 21:32:00</td>\n",
       "      <td>2016-12-31 21:50:00</td>\n",
       "      <td>Business</td>\n",
       "      <td>Katunayake</td>\n",
       "      <td>Gampaha</td>\n",
       "      <td>6.4</td>\n",
       "      <td>Temporary Site</td>\n",
       "    </tr>\n",
       "    <tr>\n",
       "      <th>1154</th>\n",
       "      <td>2016-12-31 22:08:00</td>\n",
       "      <td>2016-12-31 23:51:00</td>\n",
       "      <td>Business</td>\n",
       "      <td>Gampaha</td>\n",
       "      <td>Ilukwatta</td>\n",
       "      <td>48.2</td>\n",
       "      <td>Temporary Site</td>\n",
       "    </tr>\n",
       "  </tbody>\n",
       "</table>\n",
       "<p>653 rows × 7 columns</p>\n",
       "</div>"
      ],
      "text/plain": [
       "             START_DATE*           END_DATE* CATEGORY*            START*  \\\n",
       "0    2016-01-01 21:11:00 2016-01-01 21:17:00  Business       Fort Pierce   \n",
       "2    2016-01-02 20:25:00 2016-01-02 20:38:00  Business       Fort Pierce   \n",
       "3    2016-01-05 17:31:00 2016-01-05 17:45:00  Business       Fort Pierce   \n",
       "4    2016-01-06 14:42:00 2016-01-06 15:49:00  Business       Fort Pierce   \n",
       "5    2016-01-06 17:15:00 2016-01-06 17:19:00  Business   West Palm Beach   \n",
       "...                  ...                 ...       ...               ...   \n",
       "1150 2016-12-31 01:07:00 2016-12-31 01:14:00  Business           Kar?chi   \n",
       "1151 2016-12-31 13:24:00 2016-12-31 13:42:00  Business           Kar?chi   \n",
       "1152 2016-12-31 15:03:00 2016-12-31 15:38:00  Business  Unknown Location   \n",
       "1153 2016-12-31 21:32:00 2016-12-31 21:50:00  Business        Katunayake   \n",
       "1154 2016-12-31 22:08:00 2016-12-31 23:51:00  Business           Gampaha   \n",
       "\n",
       "                 STOP*  MILES*         PURPOSE*  \n",
       "0          Fort Pierce     5.1   Meal/Entertain  \n",
       "2          Fort Pierce     4.8  Errand/Supplies  \n",
       "3          Fort Pierce     4.7          Meeting  \n",
       "4      West Palm Beach    63.7   Customer Visit  \n",
       "5      West Palm Beach     4.3   Meal/Entertain  \n",
       "...                ...     ...              ...  \n",
       "1150           Kar?chi     0.7          Meeting  \n",
       "1151  Unknown Location     3.9   Temporary Site  \n",
       "1152  Unknown Location    16.2          Meeting  \n",
       "1153           Gampaha     6.4   Temporary Site  \n",
       "1154         Ilukwatta    48.2   Temporary Site  \n",
       "\n",
       "[653 rows x 7 columns]"
      ]
     },
     "execution_count": 22,
     "metadata": {},
     "output_type": "execute_result"
    }
   ],
   "source": [
    "data"
   ]
  },
  {
   "cell_type": "code",
   "execution_count": 28,
   "id": "2b74dc67",
   "metadata": {},
   "outputs": [
    {
     "name": "stderr",
     "output_type": "stream",
     "text": [
      "C:\\Users\\HP\\AppData\\Local\\Temp/ipykernel_5532/1638916239.py:16: SettingWithCopyWarning: \n",
      "A value is trying to be set on a copy of a slice from a DataFrame.\n",
      "Try using .loc[row_indexer,col_indexer] = value instead\n",
      "\n",
      "See the caveats in the documentation: https://pandas.pydata.org/pandas-docs/stable/user_guide/indexing.html#returning-a-view-versus-a-copy\n",
      "  data[\"Hour\"] = hour\n",
      "C:\\Users\\HP\\AppData\\Local\\Temp/ipykernel_5532/1638916239.py:17: SettingWithCopyWarning: \n",
      "A value is trying to be set on a copy of a slice from a DataFrame.\n",
      "Try using .loc[row_indexer,col_indexer] = value instead\n",
      "\n",
      "See the caveats in the documentation: https://pandas.pydata.org/pandas-docs/stable/user_guide/indexing.html#returning-a-view-versus-a-copy\n",
      "  data[\"Day\"] = day\n",
      "C:\\Users\\HP\\AppData\\Local\\Temp/ipykernel_5532/1638916239.py:18: SettingWithCopyWarning: \n",
      "A value is trying to be set on a copy of a slice from a DataFrame.\n",
      "Try using .loc[row_indexer,col_indexer] = value instead\n",
      "\n",
      "See the caveats in the documentation: https://pandas.pydata.org/pandas-docs/stable/user_guide/indexing.html#returning-a-view-versus-a-copy\n",
      "  data[\"Month\"] = month\n",
      "C:\\Users\\HP\\AppData\\Local\\Temp/ipykernel_5532/1638916239.py:19: SettingWithCopyWarning: \n",
      "A value is trying to be set on a copy of a slice from a DataFrame.\n",
      "Try using .loc[row_indexer,col_indexer] = value instead\n",
      "\n",
      "See the caveats in the documentation: https://pandas.pydata.org/pandas-docs/stable/user_guide/indexing.html#returning-a-view-versus-a-copy\n",
      "  data[\"weekday\"] = weekday\n",
      "C:\\Users\\HP\\AppData\\Local\\Temp/ipykernel_5532/1638916239.py:20: SettingWithCopyWarning: \n",
      "A value is trying to be set on a copy of a slice from a DataFrame.\n",
      "Try using .loc[row_indexer,col_indexer] = value instead\n",
      "\n",
      "See the caveats in the documentation: https://pandas.pydata.org/pandas-docs/stable/user_guide/indexing.html#returning-a-view-versus-a-copy\n",
      "  data[\"Day of week\"] = dayofweek\n"
     ]
    }
   ],
   "source": [
    "#creating new columns from date\n",
    "\n",
    "hour=[]\n",
    "day=[]\n",
    "dayofweek=[]\n",
    "weekday=[]\n",
    "month=[]\n",
    "\n",
    "for x in data[\"START_DATE*\"]:\n",
    "    hour.append(x.hour)\n",
    "    day.append(x.day)\n",
    "    dayofweek.append(x.dayofweek)\n",
    "    month.append(x.month)\n",
    "    weekday.append(calendar.day_name[dayofweek[-1]])\n",
    "    \n",
    "data[\"Hour\"] = hour\n",
    "data[\"Day\"] = day\n",
    "data[\"Month\"] = month\n",
    "data[\"weekday\"] = weekday\n",
    "data[\"Day of week\"] = dayofweek"
   ]
  },
  {
   "cell_type": "code",
   "execution_count": 29,
   "id": "7445ad44",
   "metadata": {},
   "outputs": [
    {
     "data": {
      "text/html": [
       "<div>\n",
       "<style scoped>\n",
       "    .dataframe tbody tr th:only-of-type {\n",
       "        vertical-align: middle;\n",
       "    }\n",
       "\n",
       "    .dataframe tbody tr th {\n",
       "        vertical-align: top;\n",
       "    }\n",
       "\n",
       "    .dataframe thead th {\n",
       "        text-align: right;\n",
       "    }\n",
       "</style>\n",
       "<table border=\"1\" class=\"dataframe\">\n",
       "  <thead>\n",
       "    <tr style=\"text-align: right;\">\n",
       "      <th></th>\n",
       "      <th>START_DATE*</th>\n",
       "      <th>END_DATE*</th>\n",
       "      <th>CATEGORY*</th>\n",
       "      <th>START*</th>\n",
       "      <th>STOP*</th>\n",
       "      <th>MILES*</th>\n",
       "      <th>PURPOSE*</th>\n",
       "      <th>Hour</th>\n",
       "      <th>Day</th>\n",
       "      <th>Month</th>\n",
       "      <th>weekday</th>\n",
       "      <th>dayofweek</th>\n",
       "      <th>Day of week</th>\n",
       "    </tr>\n",
       "  </thead>\n",
       "  <tbody>\n",
       "    <tr>\n",
       "      <th>0</th>\n",
       "      <td>2016-01-01 21:11:00</td>\n",
       "      <td>2016-01-01 21:17:00</td>\n",
       "      <td>Business</td>\n",
       "      <td>Fort Pierce</td>\n",
       "      <td>Fort Pierce</td>\n",
       "      <td>5.1</td>\n",
       "      <td>Meal/Entertain</td>\n",
       "      <td>21</td>\n",
       "      <td>1</td>\n",
       "      <td>1</td>\n",
       "      <td>Friday</td>\n",
       "      <td>4</td>\n",
       "      <td>4</td>\n",
       "    </tr>\n",
       "    <tr>\n",
       "      <th>2</th>\n",
       "      <td>2016-01-02 20:25:00</td>\n",
       "      <td>2016-01-02 20:38:00</td>\n",
       "      <td>Business</td>\n",
       "      <td>Fort Pierce</td>\n",
       "      <td>Fort Pierce</td>\n",
       "      <td>4.8</td>\n",
       "      <td>Errand/Supplies</td>\n",
       "      <td>20</td>\n",
       "      <td>2</td>\n",
       "      <td>1</td>\n",
       "      <td>Saturday</td>\n",
       "      <td>5</td>\n",
       "      <td>5</td>\n",
       "    </tr>\n",
       "    <tr>\n",
       "      <th>3</th>\n",
       "      <td>2016-01-05 17:31:00</td>\n",
       "      <td>2016-01-05 17:45:00</td>\n",
       "      <td>Business</td>\n",
       "      <td>Fort Pierce</td>\n",
       "      <td>Fort Pierce</td>\n",
       "      <td>4.7</td>\n",
       "      <td>Meeting</td>\n",
       "      <td>17</td>\n",
       "      <td>5</td>\n",
       "      <td>1</td>\n",
       "      <td>Tuesday</td>\n",
       "      <td>1</td>\n",
       "      <td>1</td>\n",
       "    </tr>\n",
       "    <tr>\n",
       "      <th>4</th>\n",
       "      <td>2016-01-06 14:42:00</td>\n",
       "      <td>2016-01-06 15:49:00</td>\n",
       "      <td>Business</td>\n",
       "      <td>Fort Pierce</td>\n",
       "      <td>West Palm Beach</td>\n",
       "      <td>63.7</td>\n",
       "      <td>Customer Visit</td>\n",
       "      <td>14</td>\n",
       "      <td>6</td>\n",
       "      <td>1</td>\n",
       "      <td>Wednesday</td>\n",
       "      <td>2</td>\n",
       "      <td>2</td>\n",
       "    </tr>\n",
       "    <tr>\n",
       "      <th>5</th>\n",
       "      <td>2016-01-06 17:15:00</td>\n",
       "      <td>2016-01-06 17:19:00</td>\n",
       "      <td>Business</td>\n",
       "      <td>West Palm Beach</td>\n",
       "      <td>West Palm Beach</td>\n",
       "      <td>4.3</td>\n",
       "      <td>Meal/Entertain</td>\n",
       "      <td>17</td>\n",
       "      <td>6</td>\n",
       "      <td>1</td>\n",
       "      <td>Wednesday</td>\n",
       "      <td>2</td>\n",
       "      <td>2</td>\n",
       "    </tr>\n",
       "    <tr>\n",
       "      <th>...</th>\n",
       "      <td>...</td>\n",
       "      <td>...</td>\n",
       "      <td>...</td>\n",
       "      <td>...</td>\n",
       "      <td>...</td>\n",
       "      <td>...</td>\n",
       "      <td>...</td>\n",
       "      <td>...</td>\n",
       "      <td>...</td>\n",
       "      <td>...</td>\n",
       "      <td>...</td>\n",
       "      <td>...</td>\n",
       "      <td>...</td>\n",
       "    </tr>\n",
       "    <tr>\n",
       "      <th>1150</th>\n",
       "      <td>2016-12-31 01:07:00</td>\n",
       "      <td>2016-12-31 01:14:00</td>\n",
       "      <td>Business</td>\n",
       "      <td>Kar?chi</td>\n",
       "      <td>Kar?chi</td>\n",
       "      <td>0.7</td>\n",
       "      <td>Meeting</td>\n",
       "      <td>1</td>\n",
       "      <td>31</td>\n",
       "      <td>12</td>\n",
       "      <td>Saturday</td>\n",
       "      <td>5</td>\n",
       "      <td>5</td>\n",
       "    </tr>\n",
       "    <tr>\n",
       "      <th>1151</th>\n",
       "      <td>2016-12-31 13:24:00</td>\n",
       "      <td>2016-12-31 13:42:00</td>\n",
       "      <td>Business</td>\n",
       "      <td>Kar?chi</td>\n",
       "      <td>Unknown Location</td>\n",
       "      <td>3.9</td>\n",
       "      <td>Temporary Site</td>\n",
       "      <td>13</td>\n",
       "      <td>31</td>\n",
       "      <td>12</td>\n",
       "      <td>Saturday</td>\n",
       "      <td>5</td>\n",
       "      <td>5</td>\n",
       "    </tr>\n",
       "    <tr>\n",
       "      <th>1152</th>\n",
       "      <td>2016-12-31 15:03:00</td>\n",
       "      <td>2016-12-31 15:38:00</td>\n",
       "      <td>Business</td>\n",
       "      <td>Unknown Location</td>\n",
       "      <td>Unknown Location</td>\n",
       "      <td>16.2</td>\n",
       "      <td>Meeting</td>\n",
       "      <td>15</td>\n",
       "      <td>31</td>\n",
       "      <td>12</td>\n",
       "      <td>Saturday</td>\n",
       "      <td>5</td>\n",
       "      <td>5</td>\n",
       "    </tr>\n",
       "    <tr>\n",
       "      <th>1153</th>\n",
       "      <td>2016-12-31 21:32:00</td>\n",
       "      <td>2016-12-31 21:50:00</td>\n",
       "      <td>Business</td>\n",
       "      <td>Katunayake</td>\n",
       "      <td>Gampaha</td>\n",
       "      <td>6.4</td>\n",
       "      <td>Temporary Site</td>\n",
       "      <td>21</td>\n",
       "      <td>31</td>\n",
       "      <td>12</td>\n",
       "      <td>Saturday</td>\n",
       "      <td>5</td>\n",
       "      <td>5</td>\n",
       "    </tr>\n",
       "    <tr>\n",
       "      <th>1154</th>\n",
       "      <td>2016-12-31 22:08:00</td>\n",
       "      <td>2016-12-31 23:51:00</td>\n",
       "      <td>Business</td>\n",
       "      <td>Gampaha</td>\n",
       "      <td>Ilukwatta</td>\n",
       "      <td>48.2</td>\n",
       "      <td>Temporary Site</td>\n",
       "      <td>22</td>\n",
       "      <td>31</td>\n",
       "      <td>12</td>\n",
       "      <td>Saturday</td>\n",
       "      <td>5</td>\n",
       "      <td>5</td>\n",
       "    </tr>\n",
       "  </tbody>\n",
       "</table>\n",
       "<p>653 rows × 13 columns</p>\n",
       "</div>"
      ],
      "text/plain": [
       "             START_DATE*           END_DATE* CATEGORY*            START*  \\\n",
       "0    2016-01-01 21:11:00 2016-01-01 21:17:00  Business       Fort Pierce   \n",
       "2    2016-01-02 20:25:00 2016-01-02 20:38:00  Business       Fort Pierce   \n",
       "3    2016-01-05 17:31:00 2016-01-05 17:45:00  Business       Fort Pierce   \n",
       "4    2016-01-06 14:42:00 2016-01-06 15:49:00  Business       Fort Pierce   \n",
       "5    2016-01-06 17:15:00 2016-01-06 17:19:00  Business   West Palm Beach   \n",
       "...                  ...                 ...       ...               ...   \n",
       "1150 2016-12-31 01:07:00 2016-12-31 01:14:00  Business           Kar?chi   \n",
       "1151 2016-12-31 13:24:00 2016-12-31 13:42:00  Business           Kar?chi   \n",
       "1152 2016-12-31 15:03:00 2016-12-31 15:38:00  Business  Unknown Location   \n",
       "1153 2016-12-31 21:32:00 2016-12-31 21:50:00  Business        Katunayake   \n",
       "1154 2016-12-31 22:08:00 2016-12-31 23:51:00  Business           Gampaha   \n",
       "\n",
       "                 STOP*  MILES*         PURPOSE*  Hour  Day  Month    weekday  \\\n",
       "0          Fort Pierce     5.1   Meal/Entertain    21    1      1     Friday   \n",
       "2          Fort Pierce     4.8  Errand/Supplies    20    2      1   Saturday   \n",
       "3          Fort Pierce     4.7          Meeting    17    5      1    Tuesday   \n",
       "4      West Palm Beach    63.7   Customer Visit    14    6      1  Wednesday   \n",
       "5      West Palm Beach     4.3   Meal/Entertain    17    6      1  Wednesday   \n",
       "...                ...     ...              ...   ...  ...    ...        ...   \n",
       "1150           Kar?chi     0.7          Meeting     1   31     12   Saturday   \n",
       "1151  Unknown Location     3.9   Temporary Site    13   31     12   Saturday   \n",
       "1152  Unknown Location    16.2          Meeting    15   31     12   Saturday   \n",
       "1153           Gampaha     6.4   Temporary Site    21   31     12   Saturday   \n",
       "1154         Ilukwatta    48.2   Temporary Site    22   31     12   Saturday   \n",
       "\n",
       "      dayofweek  Day of week  \n",
       "0             4            4  \n",
       "2             5            5  \n",
       "3             1            1  \n",
       "4             2            2  \n",
       "5             2            2  \n",
       "...         ...          ...  \n",
       "1150          5            5  \n",
       "1151          5            5  \n",
       "1152          5            5  \n",
       "1153          5            5  \n",
       "1154          5            5  \n",
       "\n",
       "[653 rows x 13 columns]"
      ]
     },
     "execution_count": 29,
     "metadata": {},
     "output_type": "execute_result"
    }
   ],
   "source": [
    "data"
   ]
  },
  {
   "cell_type": "code",
   "execution_count": 30,
   "id": "1db5ecea",
   "metadata": {},
   "outputs": [
    {
     "data": {
      "text/plain": [
       "Business    647\n",
       "Personal      6\n",
       "Name: CATEGORY*, dtype: int64"
      ]
     },
     "execution_count": 30,
     "metadata": {},
     "output_type": "execute_result"
    }
   ],
   "source": [
    "#check number of categories\n",
    "\n",
    "data[\"CATEGORY*\"].value_counts()"
   ]
  },
  {
   "cell_type": "code",
   "execution_count": 31,
   "id": "a032fb29",
   "metadata": {},
   "outputs": [
    {
     "data": {
      "text/plain": [
       "<AxesSubplot:xlabel='CATEGORY*', ylabel='count'>"
      ]
     },
     "execution_count": 31,
     "metadata": {},
     "output_type": "execute_result"
    },
    {
     "data": {
      "image/png": "[encoded data removed]",
      "text/plain": [
       "<Figure size 432x288 with 1 Axes>"
      ]
     },
     "metadata": {
      "needs_background": "light"
     },
     "output_type": "display_data"
    }
   ],
   "source": [
    "#visualizing the categories\n",
    "sns.countplot(x=data[\"CATEGORY*\"],data=data)"
   ]
  },
  {
   "cell_type": "code",
   "execution_count": 33,
   "id": "fed5165c",
   "metadata": {},
   "outputs": [
    {
     "data": {
      "text/plain": [
       "<AxesSubplot:ylabel='Frequency'>"
      ]
     },
     "execution_count": 33,
     "metadata": {},
     "output_type": "execute_result"
    },
    {
     "data": {
      "image/png": "[encoded data removed]",
      "text/plain": [
       "<Figure size 432x288 with 1 Axes>"
      ]
     },
     "metadata": {
      "needs_background": "light"
     },
     "output_type": "display_data"
    }
   ],
   "source": [
    "#How long do people travel with Uber\n",
    "data[\"MILES*\"].plot.hist()"
   ]
  },
  {
   "cell_type": "code",
   "execution_count": 38,
   "id": "df22eb2c",
   "metadata": {},
   "outputs": [
    {
     "data": {
      "text/plain": [
       "13    55\n",
       "14    52\n",
       "17    51\n",
       "15    51\n",
       "18    51\n",
       "16    45\n",
       "20    45\n",
       "12    43\n",
       "11    39\n",
       "19    35\n",
       "21    34\n",
       "10    33\n",
       "9     26\n",
       "23    21\n",
       "22    21\n",
       "8     17\n",
       "0     13\n",
       "7      8\n",
       "1      4\n",
       "3      3\n",
       "5      3\n",
       "6      2\n",
       "2      1\n",
       "Name: START_DATE*, dtype: int64"
      ]
     },
     "execution_count": 38,
     "metadata": {},
     "output_type": "execute_result"
    }
   ],
   "source": [
    "#what hour do most people take uber to their destination\n",
    "hours = data[\"START_DATE*\"].dt.hour.value_counts()\n",
    "hours"
   ]
  },
  {
   "cell_type": "code",
   "execution_count": 40,
   "id": "f9803a40",
   "metadata": {},
   "outputs": [
    {
     "data": {
      "image/png": "[encoded data removed]",
      "text/plain": [
       "<Figure size 720x360 with 1 Axes>"
      ]
     },
     "metadata": {
      "needs_background": "light"
     },
     "output_type": "display_data"
    }
   ],
   "source": [
    "hours.plot(kind=\"bar\",color=\"red\", figsize=(10,5))\n",
    "plt.title = \"Number of trips vs hours\"\n",
    "plt.xlabel = \"Hours\"\n",
    "plt.ylabel = \"Number of trips\""
   ]
  },
  {
   "cell_type": "code",
   "execution_count": 42,
   "id": "7d52039b",
   "metadata": {},
   "outputs": [
    {
     "data": {
      "text/plain": [
       "Meeting            187\n",
       "Meal/Entertain     160\n",
       "Errand/Supplies    128\n",
       "Customer Visit     101\n",
       "Temporary Site      50\n",
       "Between Offices     18\n",
       "Moving               4\n",
       "Airport/Travel       3\n",
       "Charity ($)          1\n",
       "Commute              1\n",
       "Name: PURPOSE*, dtype: int64"
      ]
     },
     "execution_count": 42,
     "metadata": {},
     "output_type": "execute_result"
    }
   ],
   "source": [
    "# check purpose of trips\n",
    "data[\"PURPOSE*\"].value_counts()"
   ]
  },
  {
   "cell_type": "code",
   "execution_count": 43,
   "id": "f18f2202",
   "metadata": {},
   "outputs": [
    {
     "data": {
      "text/plain": [
       "<AxesSubplot:>"
      ]
     },
     "execution_count": 43,
     "metadata": {},
     "output_type": "execute_result"
    },
    {
     "data": {
      "image/png": "[encoded data removed]",
      "text/plain": [
       "<Figure size 432x288 with 1 Axes>"
      ]
     },
     "metadata": {
      "needs_background": "light"
     },
     "output_type": "display_data"
    }
   ],
   "source": [
    "data[\"PURPOSE*\"].value_counts().plot(kind=\"bar\")"
   ]
  },
  {
   "cell_type": "code",
   "execution_count": 44,
   "id": "2b2c930c",
   "metadata": {},
   "outputs": [
    {
     "data": {
      "text/plain": [
       "Friday       125\n",
       "Tuesday       94\n",
       "Thursday      92\n",
       "Sunday        87\n",
       "Monday        87\n",
       "Wednesday     85\n",
       "Saturday      83\n",
       "Name: weekday, dtype: int64"
      ]
     },
     "execution_count": 44,
     "metadata": {},
     "output_type": "execute_result"
    }
   ],
   "source": [
    "#Which day has the highest number of trips\n",
    "data[\"weekday\"].value_counts()"
   ]
  },
  {
   "cell_type": "code",
   "execution_count": 45,
   "id": "2fbd9fe7",
   "metadata": {},
   "outputs": [
    {
     "data": {
      "text/plain": [
       "<AxesSubplot:>"
      ]
     },
     "execution_count": 45,
     "metadata": {},
     "output_type": "execute_result"
    },
    {
     "data": {
      "image/png": "[encoded data removed]",
      "text/plain": [
       "<Figure size 432x288 with 1 Axes>"
      ]
     },
     "metadata": {
      "needs_background": "light"
     },
     "output_type": "display_data"
    }
   ],
   "source": [
    "data[\"weekday\"].value_counts().plot(kind=\"bar\")"
   ]
  },
  {
   "cell_type": "code",
   "execution_count": 51,
   "id": "5ff7594b",
   "metadata": {},
   "outputs": [
    {
     "data": {
      "text/plain": [
       "<AxesSubplot:>"
      ]
     },
     "execution_count": 51,
     "metadata": {},
     "output_type": "execute_result"
    },
    {
     "data": {
      "image/png": "[encoded data removed]",
      "text/plain": [
       "<Figure size 1080x360 with 1 Axes>"
      ]
     },
     "metadata": {
      "needs_background": "light"
     },
     "output_type": "display_data"
    }
   ],
   "source": [
    "# waht are the numbers of trips per each day\n",
    "data[\"Day\"].value_counts().plot(kind=\"bar\", figsize=(15,5))"
   ]
  },
  {
   "cell_type": "code",
   "execution_count": 52,
   "id": "35b6e3f9",
   "metadata": {},
   "outputs": [
    {
     "data": {
      "text/plain": [
       "<AxesSubplot:>"
      ]
     },
     "execution_count": 52,
     "metadata": {},
     "output_type": "execute_result"
    },
    {
     "data": {
      "image/png": "[encoded data removed]",
      "text/plain": [
       "<Figure size 1080x360 with 1 Axes>"
      ]
     },
     "metadata": {
      "needs_background": "light"
     },
     "output_type": "display_data"
    }
   ],
   "source": [
    "# what are the trips in the months\n",
    "data[\"Month\"].value_counts().plot(kind=\"bar\", figsize=(15,5))"
   ]
  },
  {
   "cell_type": "code",
   "execution_count": 56,
   "id": "68014ce4",
   "metadata": {},
   "outputs": [
    {
     "data": {
      "text/plain": [
       "<AxesSubplot:>"
      ]
     },
     "execution_count": 56,
     "metadata": {},
     "output_type": "execute_result"
    },
    {
     "data": {
      "image/png": "[encoded data removed]",
      "text/plain": [
       "<Figure size 1800x360 with 1 Axes>"
      ]
     },
     "metadata": {
      "needs_background": "light"
     },
     "output_type": "display_data"
    }
   ],
   "source": [
    "# where do people board from most\n",
    "data[\"START*\"].value_counts().plot(kind=\"bar\", figsize=(25,5))"
   ]
  },
  {
   "cell_type": "code",
   "execution_count": null,
   "id": "e8462a9d",
   "metadata": {},
   "outputs": [],
   "source": []
  }
 ],
 "metadata": {
  "kernelspec": {
   "display_name": "Python 3 (ipykernel)",
   "language": "python",
   "name": "python3"
  },
  "language_info": {
   "codemirror_mode": {
    "name": "ipython",
    "version": 3
   },
   "file_extension": ".py",
   "mimetype": "text/x-python",
   "name": "python",
   "nbconvert_exporter": "python",
   "pygments_lexer": "ipython3",
   "version": "3.9.7"
  }
 },
 "nbformat": 4,
 "nbformat_minor": 5
}
